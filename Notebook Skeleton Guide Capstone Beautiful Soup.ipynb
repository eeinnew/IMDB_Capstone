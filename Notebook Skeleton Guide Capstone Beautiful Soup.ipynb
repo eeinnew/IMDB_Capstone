{
 "cells": [
  {
   "cell_type": "markdown",
   "metadata": {},
   "source": [
    "# Capstone Webscrapping using BeautifulSoup\n",
    "\n",
    "This notebook contains guidances & tasks on the data processing for the application\n",
    "\n",
    "## background\n",
    "\n",
    "Webscrapping is a process to collect unstructured data from the website on the Internet. In this project I will use BeautifulSoup package to extract the data which is imported from requirement.txt\n",
    "\n",
    "## Requesting the Data and Creating a BeautifulSoup\n",
    "\n",
    "Let's begin with requesting the web from the site with `get` method."
   ]
  },
  {
   "cell_type": "code",
   "execution_count": 1,
   "metadata": {},
   "outputs": [
    {
     "name": "stdout",
     "output_type": "stream",
     "text": [
      "Requirement already satisfied: beautifulsoup4==4.10.0 in c:\\users\\lenovo\\anaconda3\\envs\\cpst_web\\lib\\site-packages (from -r requirements.txt (line 1)) (4.10.0)\n",
      "Requirement already satisfied: certifi==2021.10.8 in c:\\users\\lenovo\\anaconda3\\envs\\cpst_web\\lib\\site-packages (from -r requirements.txt (line 2)) (2021.10.8)\n",
      "Requirement already satisfied: charset-normalizer==2.0.10 in c:\\users\\lenovo\\anaconda3\\envs\\cpst_web\\lib\\site-packages (from -r requirements.txt (line 3)) (2.0.10)\n",
      "Requirement already satisfied: click==8.0.3 in c:\\users\\lenovo\\anaconda3\\envs\\cpst_web\\lib\\site-packages (from -r requirements.txt (line 4)) (8.0.3)\n",
      "Requirement already satisfied: colorama==0.4.4 in c:\\users\\lenovo\\anaconda3\\envs\\cpst_web\\lib\\site-packages (from -r requirements.txt (line 5)) (0.4.4)\n",
      "Collecting cycler==0.11.0\n",
      "  Using cached cycler-0.11.0-py3-none-any.whl (6.4 kB)\n",
      "Requirement already satisfied: Flask==2.0.2 in c:\\users\\lenovo\\anaconda3\\envs\\cpst_web\\lib\\site-packages (from -r requirements.txt (line 7)) (2.0.2)\n",
      "Requirement already satisfied: fonttools==4.28.5 in c:\\users\\lenovo\\anaconda3\\envs\\cpst_web\\lib\\site-packages (from -r requirements.txt (line 8)) (4.28.5)\n",
      "Requirement already satisfied: idna==3.3 in c:\\users\\lenovo\\anaconda3\\envs\\cpst_web\\lib\\site-packages (from -r requirements.txt (line 9)) (3.3)\n",
      "Requirement already satisfied: importlib-metadata==4.10.0 in c:\\users\\lenovo\\anaconda3\\envs\\cpst_web\\lib\\site-packages (from -r requirements.txt (line 10)) (4.10.0)\n",
      "Requirement already satisfied: itsdangerous==2.0.1 in c:\\users\\lenovo\\anaconda3\\envs\\cpst_web\\lib\\site-packages (from -r requirements.txt (line 11)) (2.0.1)\n",
      "Collecting Jinja2==3.0.3\n",
      "  Using cached Jinja2-3.0.3-py3-none-any.whl (133 kB)\n",
      "Collecting kiwisolver==1.3.2\n",
      "  Using cached kiwisolver-1.3.2-cp39-cp39-win_amd64.whl (52 kB)\n",
      "Requirement already satisfied: MarkupSafe==2.0.1 in c:\\users\\lenovo\\anaconda3\\envs\\cpst_web\\lib\\site-packages (from -r requirements.txt (line 14)) (2.0.1)\n",
      "Collecting matplotlib==3.5.1\n",
      "  Using cached matplotlib-3.5.1-cp39-cp39-win_amd64.whl (7.2 MB)\n",
      "Collecting numpy==1.21.5\n",
      "  Using cached numpy-1.21.5-cp39-cp39-win_amd64.whl (14.0 MB)\n",
      "Collecting packaging==21.3\n",
      "  Using cached packaging-21.3-py3-none-any.whl (40 kB)\n",
      "Requirement already satisfied: pandas==1.3.5 in c:\\users\\lenovo\\anaconda3\\envs\\cpst_web\\lib\\site-packages (from -r requirements.txt (line 18)) (1.3.5)\n",
      "Collecting Pillow==9.0.0\n",
      "  Using cached Pillow-9.0.0-cp39-cp39-win_amd64.whl (3.2 MB)\n",
      "Collecting pyparsing==3.0.6\n",
      "  Using cached pyparsing-3.0.6-py3-none-any.whl (97 kB)\n",
      "Collecting python-dateutil==2.8.2\n",
      "  Using cached python_dateutil-2.8.2-py2.py3-none-any.whl (247 kB)\n",
      "Requirement already satisfied: pytz==2021.3 in c:\\users\\lenovo\\anaconda3\\envs\\cpst_web\\lib\\site-packages (from -r requirements.txt (line 22)) (2021.3)\n",
      "Requirement already satisfied: requests==2.27.1 in c:\\users\\lenovo\\anaconda3\\envs\\cpst_web\\lib\\site-packages (from -r requirements.txt (line 23)) (2.27.1)\n",
      "Requirement already satisfied: six==1.16.0 in c:\\users\\lenovo\\anaconda3\\envs\\cpst_web\\lib\\site-packages (from -r requirements.txt (line 24)) (1.16.0)\n",
      "Requirement already satisfied: soupsieve==2.3.1 in c:\\users\\lenovo\\anaconda3\\envs\\cpst_web\\lib\\site-packages (from -r requirements.txt (line 25)) (2.3.1)\n",
      "Requirement already satisfied: typing_extensions==4.0.1 in c:\\users\\lenovo\\anaconda3\\envs\\cpst_web\\lib\\site-packages (from -r requirements.txt (line 26)) (4.0.1)\n",
      "Requirement already satisfied: urllib3==1.26.8 in c:\\users\\lenovo\\anaconda3\\envs\\cpst_web\\lib\\site-packages (from -r requirements.txt (line 27)) (1.26.8)\n",
      "Requirement already satisfied: Werkzeug==2.0.2 in c:\\users\\lenovo\\anaconda3\\envs\\cpst_web\\lib\\site-packages (from -r requirements.txt (line 28)) (2.0.2)\n",
      "Requirement already satisfied: wincertstore==0.2 in c:\\users\\lenovo\\anaconda3\\envs\\cpst_web\\lib\\site-packages (from -r requirements.txt (line 29)) (0.2)\n",
      "Requirement already satisfied: zipp==3.7.0 in c:\\users\\lenovo\\anaconda3\\envs\\cpst_web\\lib\\site-packages (from -r requirements.txt (line 30)) (3.7.0)\n",
      "Installing collected packages: pyparsing, python-dateutil, Pillow, packaging, numpy, kiwisolver, Jinja2, cycler, matplotlib\n",
      "  Attempting uninstall: pyparsing\n",
      "    Found existing installation: pyparsing 2.4.7\n",
      "    Uninstalling pyparsing-2.4.7:\n",
      "      Successfully uninstalled pyparsing-2.4.7\n",
      "  Attempting uninstall: python-dateutil\n",
      "    Found existing installation: python-dateutil 2.8.1\n",
      "    Uninstalling python-dateutil-2.8.1:\n",
      "      Successfully uninstalled python-dateutil-2.8.1\n",
      "  Attempting uninstall: Pillow\n",
      "    Found existing installation: Pillow 8.2.0\n",
      "    Uninstalling Pillow-8.2.0:\n",
      "      Successfully uninstalled Pillow-8.2.0\n",
      "  Attempting uninstall: packaging\n",
      "    Found existing installation: packaging 20.9\n",
      "Note: you may need to restart the kernel to use updated packages.\n",
      "    Uninstalling packaging-20.9:\n",
      "      Successfully uninstalled packaging-20.9\n",
      "  Attempting uninstall: numpy\n",
      "    Found existing installation: numpy 1.20.3\n",
      "    Uninstalling numpy-1.20.3:\n",
      "      Successfully uninstalled numpy-1.20.3\n",
      "  Attempting uninstall: kiwisolver\n",
      "    Found existing installation: kiwisolver 1.3.1\n",
      "    Uninstalling kiwisolver-1.3.1:\n",
      "      Successfully uninstalled kiwisolver-1.3.1\n",
      "  Attempting uninstall: Jinja2\n",
      "    Found existing installation: Jinja2 3.0.1\n",
      "    Uninstalling Jinja2-3.0.1:\n",
      "      Successfully uninstalled Jinja2-3.0.1\n",
      "  Attempting uninstall: cycler\n",
      "    Found existing installation: cycler 0.10.0\n",
      "    Uninstalling cycler-0.10.0:\n",
      "      Successfully uninstalled cycler-0.10.0\n",
      "  Attempting uninstall: matplotlib\n",
      "    Found existing installation: matplotlib 3.4.2\n",
      "    Uninstalling matplotlib-3.4.2:\n",
      "      Successfully uninstalled matplotlib-3.4.2\n",
      "Successfully installed Jinja2-3.0.3 Pillow-9.0.0 cycler-0.11.0 kiwisolver-1.3.2 matplotlib-3.5.1 numpy-1.21.5 packaging-21.3 pyparsing-3.0.6 python-dateutil-2.8.2\n"
     ]
    }
   ],
   "source": [
    "pip install -r requirements.txt"
   ]
  },
  {
   "cell_type": "markdown",
   "metadata": {},
   "source": [
    "To begin, I will request the link (URL) to get the data from the website"
   ]
  },
  {
   "cell_type": "code",
   "execution_count": 2,
   "metadata": {
    "ExecuteTime": {
     "end_time": "2020-01-13T05:12:23.275508Z",
     "start_time": "2020-01-13T05:12:20.009898Z"
    }
   },
   "outputs": [],
   "source": [
    "import requests\n",
    "\n",
    "url_get = requests.get(\"https://www.imdb.com/search/title/?release_date=2021-01-01,2021-12-31\")"
   ]
  },
  {
   "cell_type": "markdown",
   "metadata": {},
   "source": [
    "To visualize what exactly you get from the `request.get`, we can use .content so ee what we exactly get, in here i slice it so it won't make our screen full of the html we get from the page. You can delete the slicing if you want to see what we fully get."
   ]
  },
  {
   "cell_type": "code",
   "execution_count": 3,
   "metadata": {
    "ExecuteTime": {
     "end_time": "2020-01-13T05:12:23.290648Z",
     "start_time": "2020-01-13T05:12:23.277650Z"
    }
   },
   "outputs": [
    {
     "data": {
      "text/plain": [
       "b'\\n<!DOCTYPE html>\\n<html\\n    xmlns:og=\"http://ogp.me/ns#\"\\n    xmlns:fb=\"http://www.facebook.com/2008/fbml\">\\n    <head>\\n         \\n\\n        <meta charset=\"utf-8\">\\n        <meta http-equiv=\"X-UA-Compatible\" content=\"IE=edge\">\\n\\n\\n\\n\\n        <script type=\"text/javascript\">var IMDbTimer={starttime: new Date().getTime(),pt:\\'java\\'};</script>\\n\\n<script>\\n    if (typeof uet == \\'function\\') {\\n      uet(\"bb\", \"LoadTitle\", {wb: 1});\\n    }\\n</script>\\n  <script>(function(t){ (t.events = t.events || {})[\"csm_head_pre_'"
      ]
     },
     "execution_count": 3,
     "metadata": {},
     "output_type": "execute_result"
    }
   ],
   "source": [
    "url_get.content[1:500]"
   ]
  },
  {
   "cell_type": "markdown",
   "metadata": {},
   "source": [
    "As we can see we get a very unstructured and complex html, which actually contains the codes needed to show the webpages on your web browser. But we as human still confused what and where we can use that piece of code, so here where we use the beautifulsoup. Beautiful soup class will result a beautifulsoup object. Beautiful Soup transforms a complex HTML document into a complex tree of Python objects. \n",
    "\n",
    "Let's make Beautiful soup object and feel free to explore the object here."
   ]
  },
  {
   "cell_type": "code",
   "execution_count": 4,
   "metadata": {
    "ExecuteTime": {
     "end_time": "2020-01-13T05:12:23.808122Z",
     "start_time": "2020-01-13T05:12:23.292610Z"
    }
   },
   "outputs": [
    {
     "name": "stdout",
     "output_type": "stream",
     "text": [
      "<class 'bs4.BeautifulSoup'>\n"
     ]
    }
   ],
   "source": [
    "from bs4 import BeautifulSoup \n",
    "\n",
    "soup = BeautifulSoup(url_get.content,\"html.parser\")\n",
    "cont = soup.find_all('div', attrs={'class':'lister-item-content'})\n",
    "print(type(soup))"
   ]
  },
  {
   "cell_type": "code",
   "execution_count": 5,
   "metadata": {},
   "outputs": [
    {
     "name": "stdout",
     "output_type": "stream",
     "text": [
      "<!DOCTYPE html>\n",
      "<html xmlns:fb=\"http://www.facebook.com/2008/fbml\" xmlns:og=\"http://ogp.me/ns#\">\n",
      " <head>\n",
      "  <meta charset=\"utf-8\"/>\n",
      "  <meta content=\"IE=edge\" http-equiv=\"X-UA-Compatible\"/>\n",
      "  <script type=\"text/javascript\">\n",
      "   var IMDbTimer={starttime: new Date().getTime(),pt:'java'};\n",
      "  </script>\n",
      "  <script>\n",
      "   if (typeof uet == 'function') {\n",
      "      uet(\"bb\", \"LoadTitle\", {wb: 1});\n",
      "    }\n",
      "  </script>\n",
      "  <script>\n",
      "   (function(t){ (t.events = t.events || {})[\"csm_head_pre_title\"] = new Date().getTime();\n"
     ]
    }
   ],
   "source": [
    "print(soup.prettify()[:500])"
   ]
  },
  {
   "cell_type": "markdown",
   "metadata": {},
   "source": [
    "## Finding the right key to scrap the data & Extracting the right information"
   ]
  },
  {
   "cell_type": "markdown",
   "metadata": {},
   "source": [
    "Find the key and put the key into the `.find()` Put all the exploring the right key at this cell. (please change this markdown with your explanation)"
   ]
  },
  {
   "cell_type": "code",
   "execution_count": 6,
   "metadata": {
    "ExecuteTime": {
     "end_time": "2020-01-13T05:12:23.878904Z",
     "start_time": "2020-01-13T05:12:23.854974Z"
    }
   },
   "outputs": [
    {
     "name": "stdout",
     "output_type": "stream",
     "text": [
      "EyXkFqcGdeQXVyMTkxNjUyNQ@@._V1_UX67_CR0,0,67,98_AL_.jpg\" src=\"https://m.media-amazon.com/images/S/sash/4FyxwxECzL-U1J8.png\" width=\"67\"/>\n",
      "    </a>\n",
      "   </div>\n",
      "   <div class=\"lister-item-content\">\n",
      "    <h3 class=\"lister-item-header\">\n",
      "     <span class=\"lister-item-index unbold text-primary\">\n",
      "      1.\n",
      "     </span>\n",
      "     <a href=\"/title/tt10366460/\">\n",
      "      CODA\n",
      "     </a>\n",
      "     <span class=\"lister-item-year text-muted unbold\">\n",
      "      (2021)\n",
      "     </span>\n",
      "    </h3>\n",
      "    <p class=\"text-muted\">\n",
      "     <span class=\"certificate\">\n",
      "      17+\n",
      "     </span>\n",
      "     <span class=\"ghost\">\n",
      "      |\n",
      "     </span>\n",
      "     <span class=\"runtime\">\n",
      "      111 min\n",
      "     </span>\n",
      "     <span class=\"ghost\">\n",
      "      |\n",
      "     </span>\n",
      "     <span class=\"genre\">\n",
      "      Comedy, Drama, Music\n",
      "     </span>\n",
      "    </p>\n",
      "    <div class=\"ratings-bar\">\n",
      "     <div class=\"inline-block ratings-imdb-rating\" data-value=\"8\" name=\"ir\">\n",
      "      <span class=\"global-sprite rating-star imdb-rating\">\n",
      "      </span>\n",
      "      <strong>\n",
      "       8.0\n",
      "      </strong>\n",
      "     </div>\n",
      "     <div class=\"inline-block ratings-user-rating\">\n",
      "      <span class=\"userRatingValue\" data-tconst=\"tt10366460\" id=\"urv_tt10366460\">\n",
      "       <span class=\"global-sprite rating-star no-rating\">\n",
      "       </span>\n",
      "       <span class=\"rate\" data-no-rating=\"Rate this\" data-value=\"0\" name=\"ur\">\n",
      "        Rate this\n",
      "       </span>\n",
      "      </span>\n",
      "      <div class=\"starBarWidget\" id=\"sb_tt10366460\">\n",
      "       <div class=\"rating rating-list\" data-csrf-token=\"\" data-ga-identifier=\"\" data-starbar-class=\"rating-list\" data-user=\"\" id=\"tt10366460|imdb|8|8|adv_li_tt||advsearch|title\" itemprop=\"aggregateRating\" itemscope=\"\" itemtype=\"http://schema.org/AggregateRating\" title=\"Users rated this 8/10 (98,143 votes) - click stars to rate\">\n",
      "        <meta content=\"8\" itemprop=\"ratingValue\"/>\n",
      "        <meta content=\"10\" itemprop=\"bestRating\"/>\n",
      "        <meta content=\"98143\" itemprop=\"ratingCount\"/>\n",
      "        <span class=\"rating-bg\">\n",
      "        </span>\n",
      "        <span class=\"rating-imdb\" style=\"width: 112px\">\n",
      "        </span>\n",
      "        <span class=\"rating-stars\">\n",
      "         <a href=\"/register/login?why=vote\" rel=\"nofollow\" title=\"Register or login to rate this title\">\n",
      "          <span>\n",
      "           1\n",
      "          </span>\n",
      "         </a>\n",
      "         <a href=\"/register/login?why=vote\" rel=\"nofollow\" title=\"Register or login to rate this title\">\n",
      "          <span>\n",
      "           2\n",
      "          </span>\n",
      "         </a>\n",
      "         <a href=\"/register/login?why=vote\" rel=\"nofollow\" title=\"Register or login to rate this title\">\n",
      "          <span>\n",
      "           3\n",
      "          </span>\n",
      "         </a>\n",
      "         <a href=\"/register/login?why=vote\" rel=\"nofollow\" title=\"Register or login to rate this title\">\n",
      "          <span>\n",
      "           4\n",
      "          </span>\n",
      "         </a>\n",
      "         <a href=\"/register/login?why=vote\" rel=\"nofollow\" title=\"Register or login to rate this title\">\n",
      "          <span>\n",
      "           5\n",
      "          </span>\n",
      "         </a>\n",
      "         <a href=\"/register/login?why=vote\" rel=\"nofollow\" title=\"Register or login to rate this title\">\n",
      "          <span>\n",
      "           6\n",
      "          </span>\n",
      "         </a>\n",
      "         <a href=\"/register/login?why=vote\" rel=\"nofollow\" title=\"Register or login to rate this title\">\n",
      "          <span>\n",
      "           7\n",
      "          </span>\n",
      "         </a>\n",
      "         <a href=\"/register/login?why=vote\" rel=\"nofollow\" title=\"Register or login to rate this title\">\n",
      "          <span>\n",
      "           8\n",
      "          </span>\n",
      "         </a>\n",
      "         <a href=\"/register/login?why=vote\" rel=\"nofollow\" title=\"Register or login to rate this title\">\n",
      "          <span>\n",
      "           9\n",
      "          </span>\n",
      "         </a>\n",
      "         <a href=\"/register/login?why=vote\" rel=\"nofollow\" title=\"Register or login to rate this title\">\n",
      "          <span>\n",
      "           10\n",
      "          </span>\n",
      "         </a>\n",
      "        </span>\n",
      "        <span class=\"rating-rating\">\n",
      "         <span class=\"value\">\n",
      "          8\n",
      "         </span>\n",
      "         <span class=\"grey\">\n",
      "          /\n",
      "         </span>\n",
      "         <span class=\"grey\">\n",
      "          10\n",
      "         </span>\n",
      "        </span>\n",
      "        <span class=\"rating-cancel\">\n",
      "         <a href=\"/title/tt10366460/vote\" rel=\"nofollow\" title=\"Delete\">\n",
      "          <span>\n",
      "           X\n",
      "          </span>\n",
      "         </a>\n",
      "        </span>\n",
      "       </div>\n",
      "      </div>\n",
      "     </div>\n",
      "     <div class=\"inline-block ratings-metascore\">\n",
      "      <span class=\"metascore favorable\">\n",
      "       74\n",
      "      </span>\n",
      "      Metascore\n",
      "     </div>\n",
      "    </div>\n",
      "    <p class=\"text-muted\">\n",
      "     As a CODA (Child of Deaf Adults) Ruby is the only hearing person in her deaf family. When the family's fishing business is threatened, Ruby find\n"
     ]
    }
   ],
   "source": [
    "table = soup.find(\"div\", attrs={\"class\":\"lister list detail sub-list\"})\n",
    "print(table.prettify()[500:5000])"
   ]
  },
  {
   "cell_type": "markdown",
   "metadata": {},
   "source": [
    "Finding row length."
   ]
  },
  {
   "cell_type": "code",
   "execution_count": 7,
   "metadata": {},
   "outputs": [
    {
     "data": {
      "text/plain": [
       "[<div class=\"lister-item mode-advanced\">\n",
       " <div class=\"lister-top-right\">\n",
       " <div class=\"ribbonize\" data-caller=\"filmosearch\" data-tconst=\"tt10366460\"></div>\n",
       " </div>\n",
       " <div class=\"lister-item-image float-left\">\n",
       " <a href=\"/title/tt10366460/\"> <img alt=\"CODA\" class=\"loadlate\" data-tconst=\"tt10366460\" height=\"98\" loadlate=\"https://m.media-amazon.com/images/M/MV5BYzkyNzNiMDItMGU1Yy00NmEyLWE4N2ItMjkzMDZmMmVhNDU4XkEyXkFqcGdeQXVyMTkxNjUyNQ@@._V1_UX67_CR0,0,67,98_AL_.jpg\" src=\"https://m.media-amazon.com/images/S/sash/4FyxwxECzL-U1J8.png\" width=\"67\"/>\n",
       " </a> </div>\n",
       " <div class=\"lister-item-content\">\n",
       " <h3 class=\"lister-item-header\">\n",
       " <span class=\"lister-item-index unbold text-primary\">1.</span>\n",
       " <a href=\"/title/tt10366460/\">CODA</a>\n",
       " <span class=\"lister-item-year text-muted unbold\">(2021)</span>\n",
       " </h3>\n",
       " <p class=\"text-muted\">\n",
       " <span class=\"certificate\">17+</span>\n",
       " <span class=\"ghost\">|</span>\n",
       " <span class=\"runtime\">111 min</span>\n",
       " <span class=\"ghost\">|</span>\n",
       " <span class=\"genre\">\n",
       " Comedy, Drama, Music            </span>\n",
       " </p>\n",
       " <div class=\"ratings-bar\">\n",
       " <div class=\"inline-block ratings-imdb-rating\" data-value=\"8\" name=\"ir\">\n",
       " <span class=\"global-sprite rating-star imdb-rating\"></span>\n",
       " <strong>8.0</strong>\n",
       " </div>\n",
       " <div class=\"inline-block ratings-user-rating\">\n",
       " <span class=\"userRatingValue\" data-tconst=\"tt10366460\" id=\"urv_tt10366460\">\n",
       " <span class=\"global-sprite rating-star no-rating\"></span>\n",
       " <span class=\"rate\" data-no-rating=\"Rate this\" data-value=\"0\" name=\"ur\">Rate this</span>\n",
       " </span>\n",
       " <div class=\"starBarWidget\" id=\"sb_tt10366460\">\n",
       " <div class=\"rating rating-list\" data-csrf-token=\"\" data-ga-identifier=\"\" data-starbar-class=\"rating-list\" data-user=\"\" id=\"tt10366460|imdb|8|8|adv_li_tt||advsearch|title\" itemprop=\"aggregateRating\" itemscope=\"\" itemtype=\"http://schema.org/AggregateRating\" title=\"Users rated this 8/10 (98,143 votes) - click stars to rate\">\n",
       " <meta content=\"8\" itemprop=\"ratingValue\"/>\n",
       " <meta content=\"10\" itemprop=\"bestRating\"/>\n",
       " <meta content=\"98143\" itemprop=\"ratingCount\"/>\n",
       " <span class=\"rating-bg\"> </span>\n",
       " <span class=\"rating-imdb\" style=\"width: 112px\"> </span>\n",
       " <span class=\"rating-stars\">\n",
       " <a href=\"/register/login?why=vote\" rel=\"nofollow\" title=\"Register or login to rate this title\"><span>1</span></a>\n",
       " <a href=\"/register/login?why=vote\" rel=\"nofollow\" title=\"Register or login to rate this title\"><span>2</span></a>\n",
       " <a href=\"/register/login?why=vote\" rel=\"nofollow\" title=\"Register or login to rate this title\"><span>3</span></a>\n",
       " <a href=\"/register/login?why=vote\" rel=\"nofollow\" title=\"Register or login to rate this title\"><span>4</span></a>\n",
       " <a href=\"/register/login?why=vote\" rel=\"nofollow\" title=\"Register or login to rate this title\"><span>5</span></a>\n",
       " <a href=\"/register/login?why=vote\" rel=\"nofollow\" title=\"Register or login to rate this title\"><span>6</span></a>\n",
       " <a href=\"/register/login?why=vote\" rel=\"nofollow\" title=\"Register or login to rate this title\"><span>7</span></a>\n",
       " <a href=\"/register/login?why=vote\" rel=\"nofollow\" title=\"Register or login to rate this title\"><span>8</span></a>\n",
       " <a href=\"/register/login?why=vote\" rel=\"nofollow\" title=\"Register or login to rate this title\"><span>9</span></a>\n",
       " <a href=\"/register/login?why=vote\" rel=\"nofollow\" title=\"Register or login to rate this title\"><span>10</span></a>\n",
       " </span>\n",
       " <span class=\"rating-rating\"><span class=\"value\">8</span><span class=\"grey\">/</span><span class=\"grey\">10</span></span>\n",
       " <span class=\"rating-cancel\"><a href=\"/title/tt10366460/vote\" rel=\"nofollow\" title=\"Delete\"><span>X</span></a></span>\n",
       "  </div>\n",
       " </div>\n",
       " </div>\n",
       " <div class=\"inline-block ratings-metascore\">\n",
       " <span class=\"metascore favorable\">74        </span>\n",
       "         Metascore\n",
       "             </div>\n",
       " </div>\n",
       " <p class=\"text-muted\">\n",
       " As a CODA (Child of Deaf Adults) Ruby is the only hearing person in her deaf family. When the family's fishing business is threatened, Ruby finds herself torn between pursuing her passion at Berklee College of Music and her fear of abandoning her parents.</p>\n",
       " <p class=\"\">\n",
       "     Director:\n",
       " <a href=\"/name/nm1571761/\">Sian Heder</a>\n",
       " <span class=\"ghost\">|</span> \n",
       "     Stars:\n",
       " <a href=\"/name/nm4454223/\">Emilia Jones</a>, \n",
       " <a href=\"/name/nm0559144/\">Marlee Matlin</a>, \n",
       " <a href=\"/name/nm1319274/\">Troy Kotsur</a>, \n",
       " <a href=\"/name/nm3310289/\">Daniel Durant</a>\n",
       " </p>\n",
       " <p class=\"sort-num_votes-visible\">\n",
       " <span class=\"text-muted\">Votes:</span>\n",
       " <span data-value=\"98143\" name=\"nv\">98,143</span>\n",
       " </p>\n",
       " </div>\n",
       " </div>,\n",
       " <div class=\"lister-item mode-advanced\">\n",
       " <div class=\"lister-top-right\">\n",
       " <div class=\"ribbonize\" data-caller=\"filmosearch\" data-tconst=\"tt10872600\"></div>\n",
       " </div>\n",
       " <div class=\"lister-item-image float-left\">\n",
       " <a href=\"/title/tt10872600/\"> <img alt=\"Spider-Man: No Way Home\" class=\"loadlate\" data-tconst=\"tt10872600\" height=\"98\" loadlate=\"https://m.media-amazon.com/images/M/MV5BZWMyYzFjYTYtNTRjYi00OGExLWE2YzgtOGRmYjAxZTU3NzBiXkEyXkFqcGdeQXVyMzQ0MzA0NTM@._V1_UX67_CR0,0,67,98_AL_.jpg\" src=\"https://m.media-amazon.com/images/S/sash/4FyxwxECzL-U1J8.png\" width=\"67\"/>\n",
       " </a> </div>\n",
       " <div class=\"lister-item-content\">\n",
       " <h3 class=\"lister-item-header\">\n",
       " <span class=\"lister-item-index unbold text-primary\">2.</span>\n",
       " <a href=\"/title/tt10872600/\">Spider-Man: No Way Home</a>\n",
       " <span class=\"lister-item-year text-muted unbold\">(2021)</span>\n",
       " </h3>\n",
       " <p class=\"text-muted\">\n",
       " <span class=\"certificate\">SU</span>\n",
       " <span class=\"ghost\">|</span>\n",
       " <span class=\"runtime\">148 min</span>\n",
       " <span class=\"ghost\">|</span>\n",
       " <span class=\"genre\">\n",
       " Action, Adventure, Fantasy            </span>\n",
       " </p>\n",
       " <div class=\"ratings-bar\">\n",
       " <div class=\"inline-block ratings-imdb-rating\" data-value=\"8.4\" name=\"ir\">\n",
       " <span class=\"global-sprite rating-star imdb-rating\"></span>\n",
       " <strong>8.4</strong>\n",
       " </div>\n",
       " <div class=\"inline-block ratings-user-rating\">\n",
       " <span class=\"userRatingValue\" data-tconst=\"tt10872600\" id=\"urv_tt10872600\">\n",
       " <span class=\"global-sprite rating-star no-rating\"></span>\n",
       " <span class=\"rate\" data-no-rating=\"Rate this\" data-value=\"0\" name=\"ur\">Rate this</span>\n",
       " </span>\n",
       " <div class=\"starBarWidget\" id=\"sb_tt10872600\">\n",
       " <div class=\"rating rating-list\" data-csrf-token=\"\" data-ga-identifier=\"\" data-starbar-class=\"rating-list\" data-user=\"\" id=\"tt10872600|imdb|8.4|8.4|adv_li_tt||advsearch|title\" itemprop=\"aggregateRating\" itemscope=\"\" itemtype=\"http://schema.org/AggregateRating\" title=\"Users rated this 8.4/10 (592,143 votes) - click stars to rate\">\n",
       " <meta content=\"8.4\" itemprop=\"ratingValue\"/>\n",
       " <meta content=\"10\" itemprop=\"bestRating\"/>\n",
       " <meta content=\"592143\" itemprop=\"ratingCount\"/>\n",
       " <span class=\"rating-bg\"> </span>\n",
       " <span class=\"rating-imdb\" style=\"width: 117.6px\"> </span>\n",
       " <span class=\"rating-stars\">\n",
       " <a href=\"/register/login?why=vote\" rel=\"nofollow\" title=\"Register or login to rate this title\"><span>1</span></a>\n",
       " <a href=\"/register/login?why=vote\" rel=\"nofollow\" title=\"Register or login to rate this title\"><span>2</span></a>\n",
       " <a href=\"/register/login?why=vote\" rel=\"nofollow\" title=\"Register or login to rate this title\"><span>3</span></a>\n",
       " <a href=\"/register/login?why=vote\" rel=\"nofollow\" title=\"Register or login to rate this title\"><span>4</span></a>\n",
       " <a href=\"/register/login?why=vote\" rel=\"nofollow\" title=\"Register or login to rate this title\"><span>5</span></a>\n",
       " <a href=\"/register/login?why=vote\" rel=\"nofollow\" title=\"Register or login to rate this title\"><span>6</span></a>\n",
       " <a href=\"/register/login?why=vote\" rel=\"nofollow\" title=\"Register or login to rate this title\"><span>7</span></a>\n",
       " <a href=\"/register/login?why=vote\" rel=\"nofollow\" title=\"Register or login to rate this title\"><span>8</span></a>\n",
       " <a href=\"/register/login?why=vote\" rel=\"nofollow\" title=\"Register or login to rate this title\"><span>9</span></a>\n",
       " <a href=\"/register/login?why=vote\" rel=\"nofollow\" title=\"Register or login to rate this title\"><span>10</span></a>\n",
       " </span>\n",
       " <span class=\"rating-rating\"><span class=\"value\">8.4</span><span class=\"grey\">/</span><span class=\"grey\">10</span></span>\n",
       " <span class=\"rating-cancel\"><a href=\"/title/tt10872600/vote\" rel=\"nofollow\" title=\"Delete\"><span>X</span></a></span>\n",
       "  </div>\n",
       " </div>\n",
       " </div>\n",
       " <div class=\"inline-block ratings-metascore\">\n",
       " <span class=\"metascore favorable\">71        </span>\n",
       "         Metascore\n",
       "             </div>\n",
       " </div>\n",
       " <p class=\"text-muted\">\n",
       " With Spider-Man's identity now revealed, Peter asks Doctor Strange for help. When a spell goes wrong, dangerous foes from other worlds start to appear, forcing Peter to discover what it truly means to be Spider-Man.</p>\n",
       " <p class=\"\">\n",
       "     Director:\n",
       " <a href=\"/name/nm1218281/\">Jon Watts</a>\n",
       " <span class=\"ghost\">|</span> \n",
       "     Stars:\n",
       " <a href=\"/name/nm4043618/\">Tom Holland</a>, \n",
       " <a href=\"/name/nm3918035/\">Zendaya</a>, \n",
       " <a href=\"/name/nm1212722/\">Benedict Cumberbatch</a>, \n",
       " <a href=\"/name/nm8188622/\">Jacob Batalon</a>\n",
       " </p>\n",
       " <p class=\"sort-num_votes-visible\">\n",
       " <span class=\"text-muted\">Votes:</span>\n",
       " <span data-value=\"592143\" name=\"nv\">592,143</span>\n",
       " </p>\n",
       " </div>\n",
       " </div>,\n",
       " <div class=\"lister-item mode-advanced\">\n",
       " <div class=\"lister-top-right\">\n",
       " <div class=\"ribbonize\" data-caller=\"filmosearch\" data-tconst=\"tt1160419\"></div>\n",
       " </div>\n",
       " <div class=\"lister-item-image float-left\">\n",
       " <a href=\"/title/tt1160419/\"> <img alt=\"Dune: Part One\" class=\"loadlate\" data-tconst=\"tt1160419\" height=\"98\" loadlate=\"https://m.media-amazon.com/images/M/MV5BN2FjNmEyNWMtYzM0ZS00NjIyLTg5YzYtYThlMGVjNzE1OGViXkEyXkFqcGdeQXVyMTkxNjUyNQ@@._V1_UX67_CR0,0,67,98_AL_.jpg\" src=\"https://m.media-amazon.com/images/S/sash/4FyxwxECzL-U1J8.png\" width=\"67\"/>\n",
       " </a> </div>\n",
       " <div class=\"lister-item-content\">\n",
       " <h3 class=\"lister-item-header\">\n",
       " <span class=\"lister-item-index unbold text-primary\">3.</span>\n",
       " <a href=\"/title/tt1160419/\">Dune: Part One</a>\n",
       " <span class=\"lister-item-year text-muted unbold\">(2021)</span>\n",
       " </h3>\n",
       " <p class=\"text-muted\">\n",
       " <span class=\"certificate\">SU</span>\n",
       " <span class=\"ghost\">|</span>\n",
       " <span class=\"runtime\">155 min</span>\n",
       " <span class=\"ghost\">|</span>\n",
       " <span class=\"genre\">\n",
       " Action, Adventure, Drama            </span>\n",
       " </p>\n",
       " <div class=\"ratings-bar\">\n",
       " <div class=\"inline-block ratings-imdb-rating\" data-value=\"8.1\" name=\"ir\">\n",
       " <span class=\"global-sprite rating-star imdb-rating\"></span>\n",
       " <strong>8.1</strong>\n",
       " </div>\n",
       " <div class=\"inline-block ratings-user-rating\">\n",
       " <span class=\"userRatingValue\" data-tconst=\"tt1160419\" id=\"urv_tt1160419\">\n",
       " <span class=\"global-sprite rating-star no-rating\"></span>\n",
       " <span class=\"rate\" data-no-rating=\"Rate this\" data-value=\"0\" name=\"ur\">Rate this</span>\n",
       " </span>\n",
       " <div class=\"starBarWidget\" id=\"sb_tt1160419\">\n",
       " <div class=\"rating rating-list\" data-csrf-token=\"\" data-ga-identifier=\"\" data-starbar-class=\"rating-list\" data-user=\"\" id=\"tt1160419|imdb|8.1|8.1|adv_li_tt||advsearch|title\" itemprop=\"aggregateRating\" itemscope=\"\" itemtype=\"http://schema.org/AggregateRating\" title=\"Users rated this 8.1/10 (546,452 votes) - click stars to rate\">\n",
       " <meta content=\"8.1\" itemprop=\"ratingValue\"/>\n",
       " <meta content=\"10\" itemprop=\"bestRating\"/>\n",
       " <meta content=\"546452\" itemprop=\"ratingCount\"/>\n",
       " <span class=\"rating-bg\"> </span>\n",
       " <span class=\"rating-imdb\" style=\"width: 113.4px\"> </span>\n",
       " <span class=\"rating-stars\">\n",
       " <a href=\"/register/login?why=vote\" rel=\"nofollow\" title=\"Register or login to rate this title\"><span>1</span></a>\n",
       " <a href=\"/register/login?why=vote\" rel=\"nofollow\" title=\"Register or login to rate this title\"><span>2</span></a>\n",
       " <a href=\"/register/login?why=vote\" rel=\"nofollow\" title=\"Register or login to rate this title\"><span>3</span></a>\n",
       " <a href=\"/register/login?why=vote\" rel=\"nofollow\" title=\"Register or login to rate this title\"><span>4</span></a>\n",
       " <a href=\"/register/login?why=vote\" rel=\"nofollow\" title=\"Register or login to rate this title\"><span>5</span></a>\n",
       " <a href=\"/register/login?why=vote\" rel=\"nofollow\" title=\"Register or login to rate this title\"><span>6</span></a>\n",
       " <a href=\"/register/login?why=vote\" rel=\"nofollow\" title=\"Register or login to rate this title\"><span>7</span></a>\n",
       " <a href=\"/register/login?why=vote\" rel=\"nofollow\" title=\"Register or login to rate this title\"><span>8</span></a>\n",
       " <a href=\"/register/login?why=vote\" rel=\"nofollow\" title=\"Register or login to rate this title\"><span>9</span></a>\n",
       " <a href=\"/register/login?why=vote\" rel=\"nofollow\" title=\"Register or login to rate this title\"><span>10</span></a>\n",
       " </span>\n",
       " <span class=\"rating-rating\"><span class=\"value\">8.1</span><span class=\"grey\">/</span><span class=\"grey\">10</span></span>\n",
       " <span class=\"rating-cancel\"><a href=\"/title/tt1160419/vote\" rel=\"nofollow\" title=\"Delete\"><span>X</span></a></span>\n",
       "  </div>\n",
       " </div>\n",
       " </div>\n",
       " <div class=\"inline-block ratings-metascore\">\n",
       " <span class=\"metascore favorable\">74        </span>\n",
       "         Metascore\n",
       "             </div>\n",
       " </div>\n",
       " <p class=\"text-muted\">\n",
       " A noble family becomes embroiled in a war for control over the galaxy's most valuable asset while its heir becomes troubled by visions of a dark future.</p>\n",
       " <p class=\"\">\n",
       "     Director:\n",
       " <a href=\"/name/nm0898288/\">Denis Villeneuve</a>\n",
       " <span class=\"ghost\">|</span> \n",
       "     Stars:\n",
       " <a href=\"/name/nm3154303/\">Timothée Chalamet</a>, \n",
       " <a href=\"/name/nm0272581/\">Rebecca Ferguson</a>, \n",
       " <a href=\"/name/nm3918035/\">Zendaya</a>, \n",
       " <a href=\"/name/nm1209966/\">Oscar Isaac</a>\n",
       " </p>\n",
       " <p class=\"sort-num_votes-visible\">\n",
       " <span class=\"text-muted\">Votes:</span>\n",
       " <span data-value=\"546452\" name=\"nv\">546,452</span>\n",
       " </p>\n",
       " </div>\n",
       " </div>,\n",
       " <div class=\"lister-item mode-advanced\">\n",
       " <div class=\"lister-top-right\">\n",
       " <div class=\"ribbonize\" data-caller=\"filmosearch\" data-tconst=\"tt10293406\"></div>\n",
       " </div>\n",
       " <div class=\"lister-item-image float-left\">\n",
       " <a href=\"/title/tt10293406/\"> <img alt=\"The Power of the Dog\" class=\"loadlate\" data-tconst=\"tt10293406\" height=\"98\" loadlate=\"https://m.media-amazon.com/images/M/MV5BZGRhYjE2NWUtN2FkNy00NGI3LTkxYWMtMDk4Yjg5ZjI3MWI2XkEyXkFqcGdeQXVyMTEyMjM2NDc2._V1_UX67_CR0,0,67,98_AL_.jpg\" src=\"https://m.media-amazon.com/images/S/sash/4FyxwxECzL-U1J8.png\" width=\"67\"/>\n",
       " </a> </div>\n",
       " <div class=\"lister-item-content\">\n",
       " <h3 class=\"lister-item-header\">\n",
       " <span class=\"lister-item-index unbold text-primary\">4.</span>\n",
       " <a href=\"/title/tt10293406/\">The Power of the Dog</a>\n",
       " <span class=\"lister-item-year text-muted unbold\">(2021)</span>\n",
       " </h3>\n",
       " <p class=\"text-muted\">\n",
       " <span class=\"certificate\">16+</span>\n",
       " <span class=\"ghost\">|</span>\n",
       " <span class=\"runtime\">126 min</span>\n",
       " <span class=\"ghost\">|</span>\n",
       " <span class=\"genre\">\n",
       " Drama, Romance, Western            </span>\n",
       " </p>\n",
       " <div class=\"ratings-bar\">\n",
       " <div class=\"inline-block ratings-imdb-rating\" data-value=\"6.9\" name=\"ir\">\n",
       " <span class=\"global-sprite rating-star imdb-rating\"></span>\n",
       " <strong>6.9</strong>\n",
       " </div>\n",
       " <div class=\"inline-block ratings-user-rating\">\n",
       " <span class=\"userRatingValue\" data-tconst=\"tt10293406\" id=\"urv_tt10293406\">\n",
       " <span class=\"global-sprite rating-star no-rating\"></span>\n",
       " <span class=\"rate\" data-no-rating=\"Rate this\" data-value=\"0\" name=\"ur\">Rate this</span>\n",
       " </span>\n",
       " <div class=\"starBarWidget\" id=\"sb_tt10293406\">\n",
       " <div class=\"rating rating-list\" data-csrf-token=\"\" data-ga-identifier=\"\" data-starbar-class=\"rating-list\" data-user=\"\" id=\"tt10293406|imdb|6.9|6.9|adv_li_tt||advsearch|title\" itemprop=\"aggregateRating\" itemscope=\"\" itemtype=\"http://schema.org/AggregateRating\" title=\"Users rated this 6.9/10 (153,664 votes) - click stars to rate\">\n",
       " <meta content=\"6.9\" itemprop=\"ratingValue\"/>\n",
       " <meta content=\"10\" itemprop=\"bestRating\"/>\n",
       " <meta content=\"153664\" itemprop=\"ratingCount\"/>\n",
       " <span class=\"rating-bg\"> </span>\n",
       " <span class=\"rating-imdb\" style=\"width: 96.6px\"> </span>\n",
       " <span class=\"rating-stars\">\n",
       " <a href=\"/register/login?why=vote\" rel=\"nofollow\" title=\"Register or login to rate this title\"><span>1</span></a>\n",
       " <a href=\"/register/login?why=vote\" rel=\"nofollow\" title=\"Register or login to rate this title\"><span>2</span></a>\n",
       " <a href=\"/register/login?why=vote\" rel=\"nofollow\" title=\"Register or login to rate this title\"><span>3</span></a>\n",
       " <a href=\"/register/login?why=vote\" rel=\"nofollow\" title=\"Register or login to rate this title\"><span>4</span></a>\n",
       " <a href=\"/register/login?why=vote\" rel=\"nofollow\" title=\"Register or login to rate this title\"><span>5</span></a>\n",
       " <a href=\"/register/login?why=vote\" rel=\"nofollow\" title=\"Register or login to rate this title\"><span>6</span></a>\n",
       " <a href=\"/register/login?why=vote\" rel=\"nofollow\" title=\"Register or login to rate this title\"><span>7</span></a>\n",
       " <a href=\"/register/login?why=vote\" rel=\"nofollow\" title=\"Register or login to rate this title\"><span>8</span></a>\n",
       " <a href=\"/register/login?why=vote\" rel=\"nofollow\" title=\"Register or login to rate this title\"><span>9</span></a>\n",
       " <a href=\"/register/login?why=vote\" rel=\"nofollow\" title=\"Register or login to rate this title\"><span>10</span></a>\n",
       " </span>\n",
       " <span class=\"rating-rating\"><span class=\"value\">6.9</span><span class=\"grey\">/</span><span class=\"grey\">10</span></span>\n",
       " <span class=\"rating-cancel\"><a href=\"/title/tt10293406/vote\" rel=\"nofollow\" title=\"Delete\"><span>X</span></a></span>\n",
       "  </div>\n",
       " </div>\n",
       " </div>\n",
       " <div class=\"inline-block ratings-metascore\">\n",
       " <span class=\"metascore favorable\">89        </span>\n",
       "         Metascore\n",
       "             </div>\n",
       " </div>\n",
       " <p class=\"text-muted\">\n",
       " Charismatic rancher Phil Burbank inspires fear and awe in those around him. When his brother brings home a new wife and her son, Phil torments them until he finds himself exposed to the possibility of love.</p>\n",
       " <p class=\"\">\n",
       "     Director:\n",
       " <a href=\"/name/nm0001005/\">Jane Campion</a>\n",
       " <span class=\"ghost\">|</span> \n",
       "     Stars:\n",
       " <a href=\"/name/nm1212722/\">Benedict Cumberbatch</a>, \n",
       " <a href=\"/name/nm0000379/\">Kirsten Dunst</a>, \n",
       " <a href=\"/name/nm0687146/\">Jesse Plemons</a>, \n",
       " <a href=\"/name/nm2240346/\">Kodi Smit-McPhee</a>\n",
       " </p>\n",
       " <p class=\"sort-num_votes-visible\">\n",
       " <span class=\"text-muted\">Votes:</span>\n",
       " <span data-value=\"153664\" name=\"nv\">153,664</span>\n",
       " </p>\n",
       " </div>\n",
       " </div>,\n",
       " <div class=\"lister-item mode-advanced\">\n",
       " <div class=\"lister-top-right\">\n",
       " <div class=\"ribbonize\" data-caller=\"filmosearch\" data-tconst=\"tt7740496\"></div>\n",
       " </div>\n",
       " <div class=\"lister-item-image float-left\">\n",
       " <a href=\"/title/tt7740496/\"> <img alt=\"Nightmare Alley\" class=\"loadlate\" data-tconst=\"tt7740496\" height=\"98\" loadlate=\"https://m.media-amazon.com/images/M/MV5BOTI4NDhhNGEtZjQxZC00ZTRmLThmZTctOGJmY2ZlOTc0ZGY0XkEyXkFqcGdeQXVyMTkxNjUyNQ@@._V1_UX67_CR0,0,67,98_AL_.jpg\" src=\"https://m.media-amazon.com/images/S/sash/4FyxwxECzL-U1J8.png\" width=\"67\"/>\n",
       " </a> </div>\n",
       " <div class=\"lister-item-content\">\n",
       " <h3 class=\"lister-item-header\">\n",
       " <span class=\"lister-item-index unbold text-primary\">5.</span>\n",
       " <a href=\"/title/tt7740496/\">Nightmare Alley</a>\n",
       " <span class=\"lister-item-year text-muted unbold\">(2021)</span>\n",
       " </h3>\n",
       " <p class=\"text-muted\">\n",
       " <span class=\"certificate\">D17+</span>\n",
       " <span class=\"ghost\">|</span>\n",
       " <span class=\"runtime\">150 min</span>\n",
       " <span class=\"ghost\">|</span>\n",
       " <span class=\"genre\">\n",
       " Crime, Drama, Thriller            </span>\n",
       " </p>\n",
       " <div class=\"ratings-bar\">\n",
       " <div class=\"inline-block ratings-imdb-rating\" data-value=\"7.1\" name=\"ir\">\n",
       " <span class=\"global-sprite rating-star imdb-rating\"></span>\n",
       " <strong>7.1</strong>\n",
       " </div>\n",
       " <div class=\"inline-block ratings-user-rating\">\n",
       " <span class=\"userRatingValue\" data-tconst=\"tt7740496\" id=\"urv_tt7740496\">\n",
       " <span class=\"global-sprite rating-star no-rating\"></span>\n",
       " <span class=\"rate\" data-no-rating=\"Rate this\" data-value=\"0\" name=\"ur\">Rate this</span>\n",
       " </span>\n",
       " <div class=\"starBarWidget\" id=\"sb_tt7740496\">\n",
       " <div class=\"rating rating-list\" data-csrf-token=\"\" data-ga-identifier=\"\" data-starbar-class=\"rating-list\" data-user=\"\" id=\"tt7740496|imdb|7.1|7.1|adv_li_tt||advsearch|title\" itemprop=\"aggregateRating\" itemscope=\"\" itemtype=\"http://schema.org/AggregateRating\" title=\"Users rated this 7.1/10 (111,785 votes) - click stars to rate\">\n",
       " <meta content=\"7.1\" itemprop=\"ratingValue\"/>\n",
       " <meta content=\"10\" itemprop=\"bestRating\"/>\n",
       " <meta content=\"111785\" itemprop=\"ratingCount\"/>\n",
       " <span class=\"rating-bg\"> </span>\n",
       " <span class=\"rating-imdb\" style=\"width: 99.4px\"> </span>\n",
       " <span class=\"rating-stars\">\n",
       " <a href=\"/register/login?why=vote\" rel=\"nofollow\" title=\"Register or login to rate this title\"><span>1</span></a>\n",
       " <a href=\"/register/login?why=vote\" rel=\"nofollow\" title=\"Register or login to rate this title\"><span>2</span></a>\n",
       " <a href=\"/register/login?why=vote\" rel=\"nofollow\" title=\"Register or login to rate this title\"><span>3</span></a>\n",
       " <a href=\"/register/login?why=vote\" rel=\"nofollow\" title=\"Register or login to rate this title\"><span>4</span></a>\n",
       " <a href=\"/register/login?why=vote\" rel=\"nofollow\" title=\"Register or login to rate this title\"><span>5</span></a>\n",
       " <a href=\"/register/login?why=vote\" rel=\"nofollow\" title=\"Register or login to rate this title\"><span>6</span></a>\n",
       " <a href=\"/register/login?why=vote\" rel=\"nofollow\" title=\"Register or login to rate this title\"><span>7</span></a>\n",
       " <a href=\"/register/login?why=vote\" rel=\"nofollow\" title=\"Register or login to rate this title\"><span>8</span></a>\n",
       " <a href=\"/register/login?why=vote\" rel=\"nofollow\" title=\"Register or login to rate this title\"><span>9</span></a>\n",
       " <a href=\"/register/login?why=vote\" rel=\"nofollow\" title=\"Register or login to rate this title\"><span>10</span></a>\n",
       " </span>\n",
       " <span class=\"rating-rating\"><span class=\"value\">7.1</span><span class=\"grey\">/</span><span class=\"grey\">10</span></span>\n",
       " <span class=\"rating-cancel\"><a href=\"/title/tt7740496/vote\" rel=\"nofollow\" title=\"Delete\"><span>X</span></a></span>\n",
       "  </div>\n",
       " </div>\n",
       " </div>\n",
       " <div class=\"inline-block ratings-metascore\">\n",
       " <span class=\"metascore favorable\">70        </span>\n",
       "         Metascore\n",
       "             </div>\n",
       " </div>\n",
       " <p class=\"text-muted\">\n",
       " A grifter working his way up from low-ranking carnival worker to lauded psychic medium matches wits with a psychiatrist bent on exposing him.</p>\n",
       " <p class=\"\">\n",
       "     Director:\n",
       " <a href=\"/name/nm0868219/\">Guillermo del Toro</a>\n",
       " <span class=\"ghost\">|</span> \n",
       "     Stars:\n",
       " <a href=\"/name/nm0177896/\">Bradley Cooper</a>, \n",
       " <a href=\"/name/nm0000949/\">Cate Blanchett</a>, \n",
       " <a href=\"/name/nm0001057/\">Toni Collette</a>, \n",
       " <a href=\"/name/nm0000353/\">Willem Dafoe</a>\n",
       " </p>\n",
       " <p class=\"sort-num_votes-visible\">\n",
       " <span class=\"text-muted\">Votes:</span>\n",
       " <span data-value=\"111785\" name=\"nv\">111,785</span>\n",
       " </p>\n",
       " </div>\n",
       " </div>]"
      ]
     },
     "execution_count": 7,
     "metadata": {},
     "output_type": "execute_result"
    }
   ],
   "source": [
    "table.find_all(\"div\", attrs={\"class\":\"lister-item mode-advanced\"})[:5]"
   ]
  },
  {
   "cell_type": "code",
   "execution_count": 8,
   "metadata": {
    "scrolled": true
   },
   "outputs": [
    {
     "data": {
      "text/plain": [
       "50"
      ]
     },
     "execution_count": 8,
     "metadata": {},
     "output_type": "execute_result"
    }
   ],
   "source": [
    "imdb = table.find_all(\"h3\", attrs={\"class\":\"lister-item-header\"})\n",
    "row_length = len(imdb)\n",
    "row_length"
   ]
  },
  {
   "cell_type": "markdown",
   "metadata": {},
   "source": [
    "## Scrapping Process\n",
    "\n",
    "### Inspecting Element\n",
    "    a. Go to IMDB Website\n",
    "    b. Right Click \n",
    "    c. Inspect-Element\n",
    "    d. copy the code element\n",
    "\n",
    "### Four information required\n",
    "    1. Judul, in h3 , class lister-item-header\n",
    "    2. imdb_rating, in div, class inline-block ratings-imdb-rating\n",
    "    3. metascore, in span, class:metascore favorable\n",
    "    4. voting, in span, name:nv\n",
    "\n",
    "### Looping \n",
    "    1. I will make a placeholder name 'temp'\n",
    "    2. making a loop function \n",
    "    3. extract the four information\n",
    "    4. append the data on temp.append\n",
    "    5. call the temp\n",
    "\n"
   ]
  },
  {
   "cell_type": "code",
   "execution_count": 26,
   "metadata": {
    "ExecuteTime": {
     "end_time": "2020-01-13T05:12:24.008256Z",
     "start_time": "2020-01-13T05:12:23.980358Z"
    },
    "scrolled": false
   },
   "outputs": [
    {
     "data": {
      "text/plain": [
       "[('CODA', '8.0', '74', '98.143'),\n",
       " ('Spider-Man: No Way Home', '8.4', '71', '592.143'),\n",
       " ('Dune: Part One', '8.1', '74', '546.452'),\n",
       " ('The Power of the Dog', '6.9', '89', '153.664'),\n",
       " ('Nightmare Alley', '7.1', '70', '111.785'),\n",
       " ('1883', '8.9', 0, '48.281'),\n",
       " ('Encanto', '7.3', '75', '185.899'),\n",
       " ('Sing 2', '7.5', '49', '44.603'),\n",
       " ('West Side Story', '7.3', '85', '67.194'),\n",
       " ('King Richard', '7.5', '76', '85.166'),\n",
       " ('The Outlaws', '7.7', 0, '6.651'),\n",
       " ('Licorice Pizza', '7.3', '90', '75.191'),\n",
       " (\"The King's Man\", '6.3', '44', '113.899'),\n",
       " ('Eternals', '6.4', '52', '290.336'),\n",
       " ('Verdens verste menneske', '7.9', '90', '37.740'),\n",
       " ('Belfast', '7.3', '75', '54.922'),\n",
       " ('The Eyes of Tammy Faye', '6.6', '55', '25.075'),\n",
       " (\"Don't Look Up\", '7.2', '49', '488.005'),\n",
       " ('Free Guy', '7.2', '62', '328.136'),\n",
       " ('House of Gucci', '6.6', '59', '98.390'),\n",
       " ('Gekijouban Jujutsu Kaisen 0', '8.0', '72', '6.317'),\n",
       " ('Doraibu mai kâ', '7.6', '91', '35.480'),\n",
       " ('The Book of Boba Fett', '7.4', 0, '111.772'),\n",
       " ('No Time to Die', '7.3', '68', '340.101'),\n",
       " ('Ghostbusters: Afterlife', '7.2', '45', '139.683'),\n",
       " ('The Matrix Resurrections', '5.7', '63', '217.031'),\n",
       " ('Superman & Lois', '7.9', 0, '28.619'),\n",
       " ('Barbarians', '4.7', '53', '826'),\n",
       " ('The French Dispatch', '7.2', '74', '101.079'),\n",
       " ('Yellowjackets', '7.9', 0, '35.986'),\n",
       " ('Ghosts', '7.8', 0, '11.579'),\n",
       " ('Only Murders in the Building', '8.1', 0, '65.340'),\n",
       " ('Spencer', '6.7', '76', '55.139'),\n",
       " ('The Suicide Squad', '7.2', '72', '322.163'),\n",
       " ('Boiling Point', '7.5', '73', '14.861'),\n",
       " ('tick, tick...BOOM!', '7.5', '74', '94.051'),\n",
       " (\"Zack Snyder's Justice League\", '8.1', '54', '372.756'),\n",
       " ('Arcane: League of Legends', '9.1', 0, '171.286'),\n",
       " ('Furioza', '6.3', 0, '2.506'),\n",
       " ('Abbott Elementary', '8.3', 0, '6.895'),\n",
       " ('The Last Duel', '7.4', '67', '135.113'),\n",
       " ('The Many Saints of Newark', '6.3', '60', '48.259'),\n",
       " ('Resident Alien', '8.1', 0, '34.720'),\n",
       " ('Chad', '2.8', 0, '4.997'),\n",
       " ('Marcel the Shell with Shoes On', '7.8', '80', '83'),\n",
       " ('Hawkeye', '7.6', 0, '147.984'),\n",
       " ('Dopesick', '8.7', 0, '44.383'),\n",
       " ('The Lost Daughter', '6.7', '86', '55.184'),\n",
       " ('Shang-Chi and the Legend of the Ten Rings', '7.4', '71', '344.181'),\n",
       " ('Loki', '8.2', 0, '276.318')]"
      ]
     },
     "execution_count": 26,
     "metadata": {},
     "output_type": "execute_result"
    }
   ],
   "source": [
    "temp = [] #initiating a tuple\n",
    "for i in range(0, len(cont)):\n",
    "    #Untuk mendapat judul\n",
    "    judul = cont[i].find('h3',attrs={'class':'lister-item-header'})\n",
    "    judul = judul.find('a').text\n",
    "    \n",
    "    #Untuk mendapat rating\n",
    "    rating = cont[i].find('div', attrs={'class':'inline-block ratings-imdb-rating'})\n",
    "    rating = rating.find('strong', attrs={'':''}).text\n",
    "\n",
    "    #Untuk mendapat Meta\n",
    "    favorable = cont[i].find('span', attrs={\"class\": \"metascore favorable\"})\n",
    "    mixed = cont[i].find('span', attrs={\"class\": \"metascore mixed\"})\n",
    "     # kondisi ketika keduanya None\n",
    "    if (favorable == None) and (mixed == None):\n",
    "     meta = 0\n",
    "    # kondisi ketika favorable None\n",
    "    elif (favorable == None):\n",
    "        meta = mixed.text.strip()\n",
    "    # kondisi ketika mixed None\n",
    "    elif (mixed == None):\n",
    "        meta = favorable.text.strip()\n",
    "\n",
    "    #Untuk mendapat votes    \n",
    "    votes = cont[i].find('p', attrs={'class':'sort-num_votes-visible'}).text\n",
    "    votes = votes.replace(\"\\n\",\"\")\n",
    "    votes = votes.replace(\"Votes:\",\"\")\n",
    "    votes = votes.replace(\"| Gross:$858.37M\",\"\")\n",
    "    votes = votes.replace(\"| Gross:$53.80M\",\"\")\n",
    "    votes = votes.replace(\"| Gross:$164.87M\",\"\")\n",
    "    votes = votes.replace(\"| Gross:$121.63M\",\"\")\n",
    "    votes = votes.replace(\"| Gross:$160.87M\",\"\")\n",
    "    votes = votes.replace(\"| Gross:$224.54M\",\"\")\n",
    "    votes = votes.replace(\",\",\".\")\n",
    "        \n",
    "    \n",
    "    temp.append((judul,rating,meta,votes))\n",
    " \n",
    "temp\n",
    "    "
   ]
  },
  {
   "cell_type": "markdown",
   "metadata": {},
   "source": [
    "## Creating data frame & Data wrangling"
   ]
  },
  {
   "cell_type": "markdown",
   "metadata": {},
   "source": [
    "After scrapping, The data need to be put into DataFrame with N/A will be transformed into NaN for visualization purposes, and some data types will be changed to make it easier."
   ]
  },
  {
   "cell_type": "code",
   "execution_count": 27,
   "metadata": {
    "ExecuteTime": {
     "end_time": "2020-01-13T05:12:41.517372Z",
     "start_time": "2020-01-13T05:12:29.130015Z"
    }
   },
   "outputs": [
    {
     "data": {
      "text/html": [
       "<div>\n",
       "<style scoped>\n",
       "    .dataframe tbody tr th:only-of-type {\n",
       "        vertical-align: middle;\n",
       "    }\n",
       "\n",
       "    .dataframe tbody tr th {\n",
       "        vertical-align: top;\n",
       "    }\n",
       "\n",
       "    .dataframe thead th {\n",
       "        text-align: right;\n",
       "    }\n",
       "</style>\n",
       "<table border=\"1\" class=\"dataframe\">\n",
       "  <thead>\n",
       "    <tr style=\"text-align: right;\">\n",
       "      <th></th>\n",
       "      <th>rating</th>\n",
       "      <th>meta</th>\n",
       "      <th>votes</th>\n",
       "    </tr>\n",
       "    <tr>\n",
       "      <th>Judul</th>\n",
       "      <th></th>\n",
       "      <th></th>\n",
       "      <th></th>\n",
       "    </tr>\n",
       "  </thead>\n",
       "  <tbody>\n",
       "    <tr>\n",
       "      <th>CODA</th>\n",
       "      <td>8.0</td>\n",
       "      <td>74</td>\n",
       "      <td>98.143</td>\n",
       "    </tr>\n",
       "    <tr>\n",
       "      <th>Spider-Man: No Way Home</th>\n",
       "      <td>8.4</td>\n",
       "      <td>71</td>\n",
       "      <td>592.143</td>\n",
       "    </tr>\n",
       "    <tr>\n",
       "      <th>Dune: Part One</th>\n",
       "      <td>8.1</td>\n",
       "      <td>74</td>\n",
       "      <td>546.452</td>\n",
       "    </tr>\n",
       "    <tr>\n",
       "      <th>The Power of the Dog</th>\n",
       "      <td>6.9</td>\n",
       "      <td>89</td>\n",
       "      <td>153.664</td>\n",
       "    </tr>\n",
       "    <tr>\n",
       "      <th>Nightmare Alley</th>\n",
       "      <td>7.1</td>\n",
       "      <td>70</td>\n",
       "      <td>111.785</td>\n",
       "    </tr>\n",
       "  </tbody>\n",
       "</table>\n",
       "</div>"
      ],
      "text/plain": [
       "                        rating meta    votes\n",
       "Judul                                       \n",
       "CODA                       8.0   74   98.143\n",
       "Spider-Man: No Way Home    8.4   71  592.143\n",
       "Dune: Part One             8.1   74  546.452\n",
       "The Power of the Dog       6.9   89  153.664\n",
       "Nightmare Alley            7.1   70  111.785"
      ]
     },
     "execution_count": 27,
     "metadata": {},
     "output_type": "execute_result"
    }
   ],
   "source": [
    "import pandas as pd\n",
    "import numpy as np\n",
    "import seaborn as sb\n",
    "\n",
    "df = pd.DataFrame(temp, columns = ('Judul','rating','meta','votes'))\n",
    "df = df.set_index('Judul')\n",
    "df.head()"
   ]
  },
  {
   "cell_type": "code",
   "execution_count": 28,
   "metadata": {},
   "outputs": [
    {
     "data": {
      "text/plain": [
       "rating    float64\n",
       "meta      float64\n",
       "votes     float64\n",
       "dtype: object"
      ]
     },
     "execution_count": 28,
     "metadata": {},
     "output_type": "execute_result"
    }
   ],
   "source": [
    "df['votes'] = df['votes'].str.replace(\",\",\"\")\n",
    "df['votes'] = df['votes'].astype('float64')\n",
    "df[['rating','meta']] = df[['rating','meta']].astype('float64')\n",
    "df.dtypes"
   ]
  },
  {
   "cell_type": "markdown",
   "metadata": {},
   "source": [
    "## Data visualisation \n",
    "after cleaning, I will make some visualization to make it understandable"
   ]
  },
  {
   "cell_type": "code",
   "execution_count": 29,
   "metadata": {},
   "outputs": [],
   "source": [
    "import matplotlib.pyplot as plt\n",
    "import seaborn as sb"
   ]
  },
  {
   "cell_type": "markdown",
   "metadata": {},
   "source": [
    "### Seven Highest Rating"
   ]
  },
  {
   "cell_type": "code",
   "execution_count": 30,
   "metadata": {
    "scrolled": true
   },
   "outputs": [
    {
     "data": {
      "text/plain": [
       "<AxesSubplot:title={'center':'Seven Highest Rating'}, ylabel='imdb_rating'>"
      ]
     },
     "execution_count": 30,
     "metadata": {},
     "output_type": "execute_result"
    },
    {
     "data": {
      "image/png": "[encoded data removed]",
      "text/plain": [
       "<Figure size 432x288 with 1 Axes>"
      ]
     },
     "metadata": {
      "needs_background": "light"
     },
     "output_type": "display_data"
    }
   ],
   "source": [
    "colors = sb.color_palette('pastel')\n",
    "viz_rate = df['rating'].sort_values(ascending=False).head(7)\n",
    "viz_rate.plot.barh(color=colors[:7], title= 'Seven Highest Rating', xlabel= 'imdb_rating', ylabel = 'Judul', rot=0)"
   ]
  },
  {
   "cell_type": "code",
   "execution_count": 31,
   "metadata": {},
   "outputs": [
    {
     "data": {
      "text/plain": [
       "<AxesSubplot:title={'center':'Seven Highest MetaScore'}, ylabel='imdb_metascore'>"
      ]
     },
     "execution_count": 31,
     "metadata": {},
     "output_type": "execute_result"
    },
    {
     "data": {
      "image/png": "[encoded data removed]",
      "text/plain": [
       "<Figure size 432x288 with 1 Axes>"
      ]
     },
     "metadata": {
      "needs_background": "light"
     },
     "output_type": "display_data"
    }
   ],
   "source": [
    "colors1 = sb.color_palette('pastel')\n",
    "viz_meta = df['meta'].sort_values(ascending=False).head(7)\n",
    "viz_meta.plot.barh(color=colors1[:7], title= 'Seven Highest MetaScore', xlabel= 'imdb_metascore', ylabel = 'Judul', rot=0)"
   ]
  },
  {
   "cell_type": "markdown",
   "metadata": {},
   "source": [
    "### Correlation between Rating and MetaScore"
   ]
  },
  {
   "cell_type": "code",
   "execution_count": 15,
   "metadata": {},
   "outputs": [
    {
     "data": {
      "image/png": "[encoded data removed]",
      "text/plain": [
       "<Figure size 432x288 with 1 Axes>"
      ]
     },
     "metadata": {
      "needs_background": "light"
     },
     "output_type": "display_data"
    }
   ],
   "source": [
    "a = df['rating']\n",
    "b = df['meta']\n",
    "\n",
    "plt.title(\"Rating and Metascore Correlation\")\n",
    "plt.xlabel(\"Rating\")\n",
    "plt.ylabel(\"Metascore\")\n",
    "\n",
    "plt.scatter(a,b)\n",
    "plt.show()"
   ]
  },
  {
   "cell_type": "markdown",
   "metadata": {},
   "source": [
    "### Implementing your webscrapping to the flask dashboard\n",
    "\n",
    "- Copy paste all of your web scrapping process to the desired position on the `app.py`\n",
    "- Changing the title of the dasboard at `index.html`"
   ]
  },
  {
   "cell_type": "code",
   "execution_count": 16,
   "metadata": {},
   "outputs": [
    {
     "name": "stdout",
     "output_type": "stream",
     "text": [
      "Note: you may need to restart the kernel to use updated packages.\n"
     ]
    },
    {
     "name": "stderr",
     "output_type": "stream",
     "text": [
      "\n",
      "Usage:   \n",
      "  C:\\Users\\LENOVO\\anaconda3\\envs\\cpst_web\\python.exe -m pip <command> [options]\n",
      "\n",
      "no such option: -l\n"
     ]
    }
   ],
   "source": [
    "pip-list --format=freeze > requirements.txt"
   ]
  },
  {
   "cell_type": "markdown",
   "metadata": {},
   "source": [
    "## Finishing This Notebook with Your Analysis and Conclusion\n",
    "\n",
    "First you can do start with making the data visualisation. "
   ]
  },
  {
   "cell_type": "code",
   "execution_count": 17,
   "metadata": {
    "ExecuteTime": {
     "end_time": "2020-01-13T05:20:56.208237Z",
     "start_time": "2020-01-13T05:20:56.076043Z"
    }
   },
   "outputs": [
    {
     "data": {
      "text/plain": [
       "<AxesSubplot:title={'center':'Seven Highest Rating'}, ylabel='imdb_rating'>"
      ]
     },
     "execution_count": 17,
     "metadata": {},
     "output_type": "execute_result"
    },
    {
     "data": {
      "image/png": "[encoded data removed]",
      "text/plain": [
       "<Figure size 432x288 with 1 Axes>"
      ]
     },
     "metadata": {
      "needs_background": "light"
     },
     "output_type": "display_data"
    }
   ],
   "source": [
    "colors = sb.color_palette('pastel')\n",
    "viz_rate = df['rating'].sort_values(ascending=False).head(7)\n",
    "viz_rate.plot.barh(color=colors[:7], title= 'Seven Highest Rating', xlabel= 'imdb_rating', ylabel = 'Judul', rot=0)"
   ]
  },
  {
   "cell_type": "markdown",
   "metadata": {},
   "source": [
    "As we can see from the bar graph, It is clear that \"Being the Ricardos\" was the highest rating from 2021 film for approximately 7. The rest followed with slight differences."
   ]
  },
  {
   "cell_type": "code",
   "execution_count": 18,
   "metadata": {},
   "outputs": [
    {
     "data": {
      "text/plain": [
       "<AxesSubplot:title={'center':'Seven Highest MetaScore'}, ylabel='imdb_metascore'>"
      ]
     },
     "execution_count": 18,
     "metadata": {},
     "output_type": "execute_result"
    },
    {
     "data": {
      "image/png": "[encoded data removed]",
      "text/plain": [
       "<Figure size 432x288 with 1 Axes>"
      ]
     },
     "metadata": {
      "needs_background": "light"
     },
     "output_type": "display_data"
    }
   ],
   "source": [
    "colors1 = sb.color_palette('pastel')\n",
    "viz_meta = df['meta'].sort_values(ascending=False).head(7)\n",
    "viz_meta.plot.barh(color=colors1[:7], title= 'Seven Highest MetaScore', xlabel= 'imdb_metascore', ylabel = 'Judul', rot=0)"
   ]
  },
  {
   "cell_type": "markdown",
   "metadata": {},
   "source": [
    "Besides, from the highest MetaScore, the rank is totally different from the one we get from rating which is \"The Eyes of Tammy Faye\" outperformed its counterparts. Furthermore, \"The King's Man\" is the only movie that was in the top list of the movie"
   ]
  },
  {
   "cell_type": "code",
   "execution_count": 19,
   "metadata": {},
   "outputs": [
    {
     "data": {
      "image/png": "[encoded data removed]",
      "text/plain": [
       "<Figure size 432x288 with 1 Axes>"
      ]
     },
     "metadata": {
      "needs_background": "light"
     },
     "output_type": "display_data"
    }
   ],
   "source": [
    "a = df['rating']\n",
    "b = df['meta']\n",
    "\n",
    "plt.title(\"Rating and Metascore Correlation\")\n",
    "plt.xlabel(\"Rating\")\n",
    "plt.ylabel(\"Metascore\")\n",
    "\n",
    "plt.scatter(a,b)\n",
    "plt.show()"
   ]
  },
  {
   "cell_type": "markdown",
   "metadata": {},
   "source": [
    "Seing this phenomenon, I tried to look at the correlation between this two variables,but seems that the data is distributed to all area.\n",
    "for this I tried to find out the correlation. The results was that, there are only small correlation between Rating and MetaScore."
   ]
  },
  {
   "cell_type": "code",
   "execution_count": 20,
   "metadata": {},
   "outputs": [
    {
     "data": {
      "text/plain": [
       "-0.1305183642139673"
      ]
     },
     "execution_count": 20,
     "metadata": {},
     "output_type": "execute_result"
    }
   ],
   "source": [
    "(a).corr(b)"
   ]
  },
  {
   "cell_type": "markdown",
   "metadata": {},
   "source": [
    "### Extra Challange\n",
    "\n",
    "This will be not included to the scoring. \n",
    "\n",
    "- You can create additional analysis from the data.\n",
    "- Implement it to the dashboard with at `app.py` dan `index.html`."
   ]
  }
 ],
 "metadata": {
  "interpreter": {
   "hash": "2e64c5a839c23dfe660b7c6b91355437bfbe103ab6166087cd34c513c1a878f2"
  },
  "kernelspec": {
   "display_name": "cpst_web",
   "language": "python",
   "name": "python3"
  },
  "language_info": {
   "codemirror_mode": {
    "name": "ipython",
    "version": 3
   },
   "file_extension": ".py",
   "mimetype": "text/x-python",
   "name": "python",
   "nbconvert_exporter": "python",
   "pygments_lexer": "ipython3",
   "version": "3.9.12"
  }
 },
 "nbformat": 4,
 "nbformat_minor": 2
}
